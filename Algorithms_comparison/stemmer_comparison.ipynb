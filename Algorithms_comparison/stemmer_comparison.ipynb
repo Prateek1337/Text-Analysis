{
 "cells": [
  {
   "cell_type": "code",
   "execution_count": 34,
   "metadata": {},
   "outputs": [
    {
     "name": "stdout",
     "output_type": "stream",
     "text": [
      "['caress', 'fli', 'die', 'mule', 'deni', 'die', 'agre', 'own', 'humbl', 'size', 'meet', 'state', 'siez', 'item', 'sensat', 'tradit', 'refer', 'colon', 'plot']\n",
      "57.89473684210527\n",
      "CPU times: user 2.65 ms, sys: 0 ns, total: 2.65 ms\n",
      "Wall time: 1.84 ms\n"
     ]
    }
   ],
   "source": [
    "%%time\n",
    "\n",
    "from nltk.stem.porter import *\n",
    "stemmer=PorterStemmer()\n",
    "\n",
    "plurals = ['caresses', 'flies', 'dies', 'mules', 'denied','died', 'agreed', 'owned', 'humbled', 'sized','meeting', 'stating', 'siezing', 'itemization' ,'sensational', 'traditional', 'reference', 'colonizer','plotted']\n",
    "singles=[stemmer.stem(plural) for plural in plurals]\n",
    "\n",
    "ans=['caress','fly','die','mule','deny','die','agree','own','humble','size','meet','state','sieze','item','sense','tradition','refer','colonize','plot'];\n",
    "right=0;\n",
    "for i in range(len(ans)):\n",
    "    if(singles[i]==ans[i]):\n",
    "        right=right+1\n",
    "        \n",
    "accuracy=(right/len(singles))*100\n",
    "print(singles)\n",
    "print(accuracy)"
   ]
  },
  {
   "cell_type": "code",
   "execution_count": 35,
   "metadata": {},
   "outputs": [
    {
     "name": "stdout",
     "output_type": "stream",
     "text": [
      "['caress', 'fli', 'die', 'mul', 'deny', 'died', 'agree', 'own', 'humbl', 'siz', 'meet', 'stat', 'siez', 'item', 'sens', 'tradit', 'ref', 'colon', 'plot']\n",
      "42.10526315789473\n",
      "CPU times: user 603 µs, sys: 128 µs, total: 731 µs\n",
      "Wall time: 704 µs\n"
     ]
    }
   ],
   "source": [
    "%%time\n",
    "from nltk.stem.lancaster import LancasterStemmer\n",
    "stemmer2 = LancasterStemmer()\n",
    "singles2=[stemmer2.stem(plural) for plural in plurals]\n",
    "\n",
    "right2=0;\n",
    "for i in range(len(ans)):\n",
    "    if(singles2[i]==ans[i]):\n",
    "        right2=right2+1\n",
    "        \n",
    "accuracy2=(right2/len(singles))*100\n",
    "print(singles2)\n",
    "print(accuracy2)"
   ]
  },
  {
   "cell_type": "code",
   "execution_count": 37,
   "metadata": {
    "scrolled": true
   },
   "outputs": [
    {
     "name": "stdout",
     "output_type": "stream",
     "text": [
      "['caress', 'fli', 'die', 'mule', 'deni', 'die', 'agre', 'own', 'humbl', 'size', 'meet', 'state', 'siez', 'item', 'sensat', 'tradit', 'refer', 'colon', 'plot']\n",
      "57.89473684210527\n",
      "CPU times: user 1.06 ms, sys: 223 µs, total: 1.28 ms\n",
      "Wall time: 1.12 ms\n"
     ]
    }
   ],
   "source": [
    "%%time\n",
    "from nltk.stem.snowball import SnowballStemmer\n",
    "stemmer3 =SnowballStemmer(\"english\")\n",
    "singles3=[stemmer3.stem(plural) for plural in plurals]\n",
    "\n",
    "right3=0;\n",
    "for i in range(len(ans)):\n",
    "    if(singles3[i]==ans[i]):\n",
    "        right3=right3+1\n",
    "        \n",
    "accuracy3=(right3/len(singles3))*100\n",
    "print(singles3)\n",
    "print(accuracy3)"
   ]
  },
  {
   "cell_type": "code",
   "execution_count": null,
   "metadata": {},
   "outputs": [],
   "source": []
  }
 ],
 "metadata": {
  "kernelspec": {
   "display_name": "Python 3",
   "language": "python",
   "name": "python3"
  },
  "language_info": {
   "codemirror_mode": {
    "name": "ipython",
    "version": 3
   },
   "file_extension": ".py",
   "mimetype": "text/x-python",
   "name": "python",
   "nbconvert_exporter": "python",
   "pygments_lexer": "ipython3",
   "version": "3.6.6"
  }
 },
 "nbformat": 4,
 "nbformat_minor": 2
}
