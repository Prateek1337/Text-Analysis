{
 "cells": [
  {
   "cell_type": "code",
   "execution_count": 285,
   "metadata": {},
   "outputs": [],
   "source": [
    "#setting up corpora\n",
    "\n",
    "import nltk\n",
    "import numpy as np\n",
    "from nltk.corpus import brown\n",
    "brown_tagged_sentences=brown.tagged_sents(categories=\"learned\")\n",
    "brown_sentence=brown.sents(categories=\"learned\")\n",
    "brown_tagged_words=brown.tagged_words(categories=\"learned\")"
   ]
  },
  {
   "cell_type": "code",
   "execution_count": 286,
   "metadata": {},
   "outputs": [
    {
     "name": "stdout",
     "output_type": "stream",
     "text": [
      "0.16050536593947923\n",
      "CPU times: user 1.18 s, sys: 24 ms, total: 1.2 s\n",
      "Wall time: 1.2 s\n"
     ]
    }
   ],
   "source": [
    "%%time\n",
    "#default tagger\n",
    "\n",
    "tag=[tag for (word,tag) in  brown_tagged_words]\n",
    "tag_dis=nltk.FreqDist(tag)\n",
    "most_common_tag=tag_dis.max()\n",
    "default_tagger=nltk.DefaultTagger(most_common_tag)\n",
    "tagged_words=default_tagger.tag(tokens)\n",
    "print(default_tagger.evaluate(brown_tagged_sentences))"
   ]
  },
  {
   "cell_type": "code",
   "execution_count": 287,
   "metadata": {},
   "outputs": [
    {
     "name": "stdout",
     "output_type": "stream",
     "text": [
      "0.22263700738916256\n",
      "CPU times: user 2.09 s, sys: 24 ms, total: 2.12 s\n",
      "Wall time: 2.11 s\n"
     ]
    }
   ],
   "source": [
    "%%time\n",
    "#Regexp tagger\n",
    "\n",
    "patterns = [(r'.*ing$', 'VBG'),(r'.*ed$', 'VBD'), (r'.*es$', 'VBZ'),(r'.*ould$', 'MD'),(r'.*\\'s$', 'NN$'),(r'.*s$', 'NNS'),(r'^-?[0-9]+(.[0-9]+)?$', 'CD'),(r'.*', 'NN')]\n",
    "reg_tagger=nltk.RegexpTagger(patterns)\n",
    "print(reg_tagger.evaluate(brown_tagged_sentences))"
   ]
  },
  {
   "cell_type": "code",
   "execution_count": 288,
   "metadata": {},
   "outputs": [
    {
     "name": "stdout",
     "output_type": "stream",
     "text": [
      "0.9107032899366643\n",
      "CPU times: user 1.74 s, sys: 16 ms, total: 1.75 s\n",
      "Wall time: 1.75 s\n"
     ]
    }
   ],
   "source": [
    "%%time\n",
    "#Lookup Tagger with backoff\n",
    "words=brown.words(categories=\"learned\")\n",
    "fd=nltk.FreqDist(words)\n",
    "cfd=nltk.ConditionalFreqDist(brown_tagged_words)\n",
    "common_words=fd.most_common(10000)\n",
    "c_tagged_words=dict((word,cfd[word].max()) for (word,count) in common_words )\n",
    "lookup_tagger = nltk.UnigramTagger(model=c_tagged_words,backoff=nltk.DefaultTagger(\"NN\"))\n",
    "print(lookup_tagger.evaluate(brown_tagged_sentences))\n",
    "\n"
   ]
  },
  {
   "cell_type": "code",
   "execution_count": 289,
   "metadata": {},
   "outputs": [
    {
     "data": {
      "image/png": "[encoded data removed]",
      "text/plain": [
       "<Figure size 432x288 with 1 Axes>"
      ]
     },
     "metadata": {
      "needs_background": "light"
     },
     "output_type": "display_data"
    }
   ],
   "source": [
    "#performace of lookup tagger wrt number of common names\n",
    "import numpy as np\n",
    "num_words=np.arange(1000,20000,1000)\n",
    "acc=np.empty(0)\n",
    "\n",
    "def perc(c_tagged_words):\n",
    "    lookup_tagger = nltk.UnigramTagger(model=c_tagged_words,backoff=nltk.DefaultTagger(\"NN\"))\n",
    "    return lookup_tagger.evaluate(brown_tagged_sentences)\n",
    "\n",
    "for num_word in num_words:\n",
    "    common_words=fd.most_common(num_word)\n",
    "    c_tagged_words=dict((word,cfd[word].max()) for (word,count) in common_words )\n",
    "    acc=np.append(acc,perc(c_tagged_words)*100)\n",
    "\n",
    "plt.plot(num_words, acc)\n",
    "plt.xlabel('number of common words')\n",
    "plt.ylabel('accuracy')\n",
    "plt.show()\n",
    "\n",
    "\n",
    "\n"
   ]
  },
  {
   "cell_type": "code",
   "execution_count": null,
   "metadata": {},
   "outputs": [],
   "source": []
  }
 ],
 "metadata": {
  "kernelspec": {
   "display_name": "Python 3",
   "language": "python",
   "name": "python3"
  },
  "language_info": {
   "codemirror_mode": {
    "name": "ipython",
    "version": 3
   },
   "file_extension": ".py",
   "mimetype": "text/x-python",
   "name": "python",
   "nbconvert_exporter": "python",
   "pygments_lexer": "ipython3",
   "version": "3.6.6"
  }
 },
 "nbformat": 4,
 "nbformat_minor": 2
}
